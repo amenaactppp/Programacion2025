{
 "cells": [
  {
   "cell_type": "code",
   "execution_count": 11,
   "metadata": {
    "colab": {
     "base_uri": "https://localhost:8080/"
    },
    "executionInfo": {
     "elapsed": 10485,
     "status": "ok",
     "timestamp": 1712064323417,
     "user": {
      "displayName": "Andrés Mena Abarca",
      "userId": "07418092259593836578"
     },
     "user_tz": 360
    },
    "id": "n3rOsUESDeTs",
    "outputId": "1cd40ed7-f1d2-4b89-bca5-696418df0021"
   },
   "outputs": [
    {
     "name": "stdout",
     "output_type": "stream",
     "text": [
      "Hola a todos!\n",
      "Hola grupo \n",
      "10-1 Informática\n"
     ]
    }
   ],
   "source": [
    "'''\n",
    "Estos son comentario  de multilinea\n",
    "puedo colocar varias lineas, y se comentan\n",
    "\n",
    "'''\n",
    "\n",
    "print (\"Hola a todos!\") # Esto es un comentario de linea\n",
    "\n",
    "print('Hola grupo \\n10-1 Informática')"
   ]
  },
  {
   "cell_type": "markdown",
   "metadata": {
    "id": "xPykWl3ETS5_"
   },
   "source": [
    "* Comillas dobles: Se utilizan para la interpolación de variables y para cadenas de texto que abarcan varias líneas.\n",
    "* Comillas simples: Se utilizan para cadenas de texto simples que no requieren interpolación de variables."
   ]
  },
  {
   "cell_type": "markdown",
   "metadata": {
    "id": "q7R3dARlFtDY"
   },
   "source": [
    "# NOTEBOOK 01 - Introducción a Python\n",
    "## Nombre del estudiante: Prof. Andrés Mena Abarca\n",
    "### Actividades\n",
    "* Entornos de desarrollo e instalación del ambiente de programación.\n",
    "  * Instalar Python y Visual Code | Descarga de archivos\n",
    "* Personalizar IDLE:\n",
    "  * Python\n",
    "  * Pylance\n",
    "  * Python Extension Pack\n",
    "  * Panda Theme (Opcional)\n",
    "  * Code Runner\n",
    "  * CodeSnap\n",
    "* ¿Que es Python?\n",
    "* Presentación de las características y sintaxis del lenguaje Python.\n",
    "* Creación de variables usando los tipos de datos elementales. Números, cadenas de texto, booleano y Nulos\n",
    "* Asignación de tareas\n",
    "---"
   ]
  },
  {
   "cell_type": "markdown",
   "metadata": {
    "id": "3upOEvooD4h8"
   },
   "source": [
    "\n",
    "\n",
    "---\n",
    "# Trabajemos con los diferentes tipos de datos en Python\n",
    "\n",
    "* String: Cadenas de caracteres ->\"string\"  ->'string'\n",
    "* Enteros\n",
    "* Flotantes -> Decimal\n",
    "* Boleanos # True ->1  False ->0\n",
    "\n",
    "### **La inferencia de tipos en Python:**\n",
    "La inferencia de tipos es una característica de Python que permite al intérprete deducir el tipo de dato de una variable a partir del contexto en el que se usa.\n",
    "\n",
    "### **Sintaxis Variables:**\n",
    "\n",
    "1.   Empezar con una letra o guion bajo (_).\n",
    "2.   Contener solo letras, números y guiones bajos.\n",
    "3.   No ser palabras clave reservadas del lenguaje Python."
   ]
  },
  {
   "cell_type": "code",
   "execution_count": 3,
   "metadata": {
    "id": "By8jW6m9EHif",
    "outputId": "f40dd5ab-578c-4153-c3e9-0cde8eadad97"
   },
   "outputs": [
    {
     "name": "stdout",
     "output_type": "stream",
     "text": [
      "Andrés  mi edad es:  25\n"
     ]
    }
   ],
   "source": [
    "nombre = 'Andrés'\n",
    "edad = 25\n",
    "\n",
    "print(nombre,' mi edad es: ',edad)"
   ]
  },
  {
   "cell_type": "markdown",
   "metadata": {
    "id": "Y68Lec-cMkGb"
   },
   "source": [
    "## **Consejos para elegir nombres de variables correctos:**\n",
    "\n",
    "* Ser descriptivos: Deben indicar el contenido de la variable.\n",
    "* Ser cortos y simples: Deben ser fáciles de recordar y escribir.\n",
    "* Ser consistentes: Usar el mismo estilo de mayúsculas y minúsculas.\n",
    "* Evitar palabras clave: No usar palabras reservadas del lenguaje Python.\n",
    "* Utilizar prefijos y sufijos: Se pueden usar para agrupar variables relacionadas.\n",
    "\n",
    "**Ejemplo de nombres de variables correctos:**\n",
    "\n",
    "* nombre_completo: Almacena el nombre completo de una persona.\n",
    "* edad: Almacena la edad de una persona.\n",
    "* lista_de_compras: Almacena una lista de productos para comprar.\n",
    "* oordenada_x: Almacena la coordenada X de un punto."
   ]
  },
  {
   "cell_type": "markdown",
   "metadata": {
    "id": "SWxJC-NqHB43"
   },
   "source": [
    "# Leer Datos -> input\n"
   ]
  },
  {
   "cell_type": "code",
   "execution_count": null,
   "metadata": {
    "id": "3hTS7twHHEmZ"
   },
   "outputs": [
    {
     "name": "stdout",
     "output_type": "stream",
     "text": [
      "Mi nombre es:  matias\n"
     ]
    }
   ],
   "source": [
    "nombre = input(\"Ingrese su nombre porfavor: \")\n",
    "print('Mi nombre es: ', nombre)\n"
   ]
  },
  {
   "cell_type": "markdown",
   "metadata": {
    "id": "wgqsXqXaIYv4"
   },
   "source": [
    "# Operadores aritméticos:\n",
    "\n",
    " * Suma: +\n",
    " * Resta: -\n",
    " * Multiplicación: *\n",
    " * División: /\n",
    " * División entera: //\n",
    " * Módulo (residuo de la división) %"
   ]
  },
  {
   "cell_type": "code",
   "execution_count": null,
   "metadata": {
    "colab": {
     "base_uri": "https://localhost:8080/"
    },
    "executionInfo": {
     "elapsed": 257,
     "status": "ok",
     "timestamp": 1711933005155,
     "user": {
      "displayName": "Andrés Mena Abarca",
      "userId": "07418092259593836578"
     },
     "user_tz": 360
    },
    "id": "cX0sWCMjHmQ2",
    "outputId": "611d6e18-15d0-401b-a6ba-ad20548da759"
   },
   "outputs": [],
   "source": [
    "#Antes de calcular, se debe realizar la conversión\n",
    "#int(Va el dato a convertir)\n",
    "\n",
    "num1 = int(input(\"Ingrese el primer número:\"))\n",
    "num2 = int(input('Ingrese el segundo número'))\n",
    "\n",
    "\n",
    "print('El resultado de la suma es: ', num1 +    num2)\n",
    "print('El resultado de la resta es: ', num1 - num2)"
   ]
  },
  {
   "cell_type": "markdown",
   "metadata": {
    "id": "CzgpMa2tJkC5"
   },
   "source": [
    "# Ejemplo simple de cómo leer y mostrar data"
   ]
  },
  {
   "cell_type": "code",
   "execution_count": 7,
   "metadata": {
    "id": "JbFAzFkTJr7v"
   },
   "outputs": [
    {
     "name": "stdout",
     "output_type": "stream",
     "text": [
      "El área del triángulo es: 25.0\n"
     ]
    },
    {
     "data": {
      "text/plain": [
       "''"
      ]
     },
     "execution_count": 7,
     "metadata": {},
     "output_type": "execute_result"
    }
   ],
   "source": [
    "# Se solicitan al usuario la base y la altura del triángulo.\n",
    "# -----> Entrada\n",
    "base  = int(input('Ingrese la base del triangulo: '))\n",
    "altura = int(input('Ingrese la altura del triangulo: '))\n",
    " \n",
    "\n",
    "# Se muestran los tipos de dato de las variables.\n",
    "\n",
    "\n",
    "# -----> Proceso \n",
    "# Se calcula el área del triángulo.\n",
    "area = (base * altura) / 2\n",
    "\n",
    "\n",
    "# -----> Salida \n",
    "# Se muestra el resultado del área del triángulo al usuario.\n",
    "print(f\"El área del triángulo es: {area}\")\n",
    "\n",
    "# Se espera que el usuario presione una tecla para salir.\n",
    "input(\"Presione una tecla para salir...\")"
   ]
  },
  {
   "cell_type": "markdown",
   "metadata": {
    "id": "nJduay5fUAZG"
   },
   "source": [
    "\n",
    "\n",
    "---\n",
    "# Manejo de Cadenas de Texto en Python\n",
    "En Python, las cadenas de texto (strings) son objetos inmutables que se pueden manipular de diversas maneras. Las operaciones que se pueden realizar sobre las cadenas de texto incluyen:\n",
    "\n",
    "1. **Concatenación:** Se utiliza el operador + para unir dos cadenas de texto."
   ]
  },
  {
   "cell_type": "code",
   "execution_count": 8,
   "metadata": {
    "id": "BfYunLoJUaeu"
   },
   "outputs": [
    {
     "name": "stdout",
     "output_type": "stream",
     "text": [
      "Buenas tardes\n"
     ]
    }
   ],
   "source": [
    "cadena1 = \"Buenas\"\n",
    "cadena2 = \"tardes\"\n",
    "\n",
    "cadena_concatenada = cadena1 + \" \" + cadena2\n",
    "\n",
    "print(cadena_concatenada)"
   ]
  },
  {
   "cell_type": "markdown",
   "metadata": {
    "id": "Et_GyxAQUYjk"
   },
   "source": [
    "2. **Repetición:** Se utiliza el operador * para repetir una cadena de texto un número determinado de veces.\n"
   ]
  },
  {
   "cell_type": "code",
   "execution_count": 9,
   "metadata": {
    "id": "-GcPH1hwUqZJ"
   },
   "outputs": [
    {
     "name": "stdout",
     "output_type": "stream",
     "text": [
      "HolaHolaHolaHolaHola\n"
     ]
    }
   ],
   "source": [
    "cadena = \"Hola\"\n",
    "\n",
    "cadena_repetida = cadena * 5\n",
    "\n",
    "print(cadena_repetida)"
   ]
  },
  {
   "cell_type": "markdown",
   "metadata": {
    "id": "vZ6xLMxvUPJ5"
   },
   "source": [
    "3. **Indexación y corte:**\n",
    "*  Se pueden acceder a los caracteres de una cadena de texto utilizando índices.\n",
    "*  Se pueden obtener subcadenas de una cadena de texto utilizando el operador de corte ([:])."
   ]
  },
  {
   "cell_type": "code",
   "execution_count": 16,
   "metadata": {
    "colab": {
     "base_uri": "https://localhost:8080/"
    },
    "executionInfo": {
     "elapsed": 257,
     "status": "ok",
     "timestamp": 1711935831706,
     "user": {
      "displayName": "Andrés Mena Abarca",
      "userId": "07418092259593836578"
     },
     "user_tz": 360
    },
    "id": "I5_veaY9U3i7",
    "outputId": "c99d3854-145e-436c-9542-47d557a53bc2"
   },
   "outputs": [
    {
     "name": "stdout",
     "output_type": "stream",
     "text": [
      "B\n",
      "Barca\n",
      "Barca gana\n",
      " la CHAMPIONS el otro año\n"
     ]
    }
   ],
   "source": [
    "frase = 'Barca gana la CHAMPIONS el otro año'\n",
    "\n",
    "print(frase[0])\n",
    "\n",
    "print(frase[0:5])\n",
    "\n",
    "print(frase[:10])\n",
    "\n",
    "print(frase[10:])\n",
    "\n"
   ]
  },
  {
   "cell_type": "code",
   "execution_count": 18,
   "metadata": {},
   "outputs": [
    {
     "name": "stdout",
     "output_type": "stream",
     "text": [
      "real madrid\n",
      "REAL MADRID\n"
     ]
    }
   ],
   "source": [
    "#MAYUSCULA\n",
    "respuesta = input(\"Que le gustá a Yeriel?\")\n",
    "\n",
    "print(respuesta)\n",
    "\n",
    "respuesta = respuesta.upper()\n",
    "print(respuesta)"
   ]
  },
  {
   "cell_type": "code",
   "execution_count": 19,
   "metadata": {},
   "outputs": [
    {
     "name": "stdout",
     "output_type": "stream",
     "text": [
      "mujeres\n"
     ]
    }
   ],
   "source": [
    "respuesta = input('Que le gusta a Kenneth?')\n",
    "respuesta = respuesta.lower()\n",
    "\n",
    "print(respuesta)"
   ]
  },
  {
   "cell_type": "code",
   "execution_count": 21,
   "metadata": {},
   "outputs": [
    {
     "name": "stdout",
     "output_type": "stream",
     "text": [
      "Me gustan sus ojos. tambien el cielo\n"
     ]
    }
   ],
   "source": [
    "frase_conquista = input('Cual es su frase favorita para conquistar?')\n",
    "frase_conquista = frase_conquista.capitalize()\n",
    "#FraseConquista\n",
    "\n",
    "print(frase_conquista)"
   ]
  },
  {
   "cell_type": "code",
   "execution_count": null,
   "metadata": {},
   "outputs": [],
   "source": [
    "#Reemplazar\n",
    "texto =  \"Hola mi nombre es Andrés\"\n",
    "texto = texto.replace(\"Hola\",\"Saludos\")\n",
    "\n",
    "print(texto)"
   ]
  },
  {
   "cell_type": "code",
   "execution_count": 22,
   "metadata": {},
   "outputs": [
    {
     "name": "stdout",
     "output_type": "stream",
     "text": [
      "MASIS\n"
     ]
    }
   ],
   "source": [
    "apellido = input('Ingrese su apellido: ').upper()\n",
    "print(apellido)"
   ]
  },
  {
   "cell_type": "markdown",
   "metadata": {
    "id": "SLQg3T9PU-ry"
   },
   "source": [
    "4. **Métodos de las cadenas:**Las cadenas de texto en Python tienen una gran cantidad de métodos que se pueden utilizar para realizar diversas operaciones. Algunos de los métodos más comunes son:\n",
    "\n",
    "*  **upper():** Convierte la cadena a mayúsculas.\n",
    "*  **lower():** Convierte la cadena a minúsculas.\n",
    "*  **strip():** Elimina los espacios en blanco al principio y al final de la cadena.\n",
    "*  **find():** Busca la primera aparición de una subcadena en la cadena.\n",
    "*  **replace():** Reemplaza una subcadena por otra en la cadena."
   ]
  },
  {
   "cell_type": "code",
   "execution_count": null,
   "metadata": {
    "id": "eQZJOiezVuIb"
   },
   "outputs": [],
   "source": [
    "#MAYUSCULA\n",
    "texto = \"hola estudiantes\"\n",
    "x = texto.upper()\n",
    "print(x)\n",
    "\n",
    "#MINUSCULA\n",
    "texto = \"hola PROFES\"\n",
    "x = texto.lower()\n",
    "print(x)\n",
    "\n",
    "\n",
    "#CONVERTIR EN MAYUSCULA LA PRIMERA LETRA\n",
    "texto = \"saludos bienvenidos al curso de PYTHON\"\n",
    "x = texto.capitalize()\n",
    "print(x)\n",
    "\n",
    "texto = \"2023 saludos bienvenidos al curso de PYTHON\"\n",
    "x = texto.capitalize()\n",
    "print(x)\n",
    "\n",
    "#INVERSOR\n",
    "texto = \"2023 saludos bienvenidos al CURSO DE PYTHON\"\n",
    "x = texto.swapcase()\n",
    "print(x)\n",
    "\n",
    "#REPLACE\n",
    "texto = \"Hola mi nombre es Andrés\"\n",
    "print(texto.replace(\"Hola\",\"Saludos\"))\n",
    "\n",
    "ced = \"1-1111-1111\"\n",
    "x= ced.replace(\"-\",\"\")\n",
    "print(x)\n",
    "\n",
    "# Comprobar si la cadena solo contiene letras\n",
    "cadena = \"Hola\"\n",
    "print(cadena.isalpha())\n",
    "# True\n",
    "\n",
    "# Comprobar si la cadena solo contiene números\n",
    "cadena = \"123\"\n",
    "print(cadena.isdigit())\n",
    "# True\n",
    "\n",
    "# Buscar la primera aparición de una subcadena\n",
    "cadena = \"Hola mundo!\"\n",
    "print(cadena.find(\"mundo\"))\n",
    "# Salida:\n",
    "# 6\n",
    "\n",
    "#CONTAR CUANTAS VECES APARECE UNA PALABRA\n",
    "txt= \"Este es curso Python y sera muy interactivo muy Python\"\n",
    "x = txt.count(\"Python\")\n",
    "print(x)\n"
   ]
  },
  {
   "cell_type": "markdown",
   "metadata": {
    "id": "RZQRsLrLOEbs"
   },
   "source": [
    "# Convenciones de Python (PEP 8)\n",
    "\n",
    "Las convenciones de Python, también conocidas como PEP 8 (Python Enhancement Proposal 8), son un conjunto de lineamientos para escribir código Python de forma legible, consistente y mantenible. Estas convenciones abarcan desde el estilo de nombrado de variables hasta la estructura del código.\n",
    "\n",
    "## 1. Nombrado:\n",
    "\n",
    "*  **Letras y guiones bajos:** Los nombres de variables, funciones, clases y módulos deben comenzar con una letra o guion bajo y pueden contener letras, números y guiones bajos.\n",
    "*  **Mayúsculas y minúsculas:**\n",
    "Caso serpiente (snake_case): Se utiliza para variables y funciones. Las palabras se separan con guiones bajos. (Ej: total_costo)\n",
    "* **CamelCase:** Se utiliza para clases y nombres de archivos. La primera letra de cada palabra se escribe en mayúscula. (Ej: MiClasePrincipal)\n",
    "* **Constantes:** Se escriben en MAYÚSCULAS_SEPARADAS_POR_GUIONES_BAJOS. (Ej: PI, MAX_VELOCIDAD)\n",
    "Palabras reservadas: Evita usar palabras clave del lenguaje Python como nombres de variables.\n",
    "\n",
    "## 2. Sangría:\n",
    "\n",
    "* **Bloques de código:** La sangría (generalmente 4 espacios) se utiliza para definir bloques de código dentro de funciones, bucles, condicionales, etc. La sangría consistente es crucial para la legibilidad del código.\n",
    "\n",
    "## 3. Comentarios:\n",
    "\n",
    "*  **Docstrings:** Se utilizan para documentar funciones, clases y módulos. Proporcionan información sobre su propósito, parámetros y valores de retorno.\n",
    "*  **Comentarios en línea:** Se utilizan para explicar partes específicas del código y mejorar la comprensión del mismo.\n",
    "\n",
    "\n",
    "## 4. Espacios en blanco:\n",
    "\n",
    "* **Separadores:** Se utilizan espacios en blanco alrededor de operadores, después de comas, antes y después de paréntesis, corchetes y llaves.\n",
    "* **Líneas en blanco:** Se utilizan para separar secciones lógicas del código y mejorar la legibilidad.\n",
    "\n",
    "## 5. Importaciones:\n",
    "\n",
    "* **Módulos estándar:** Se importan al inicio del código utilizando la instrucción import.\n",
    "* **Funciones y clases de otros módulos:** Se importan utilizando la instrucción from <modulo> import <nombre>.\n",
    "\n",
    "#Beneficios de usar las convenciones de Python:\n",
    "\n",
    "* **Legibilidad:** El código es más fácil de leer y comprender para otros programadores.\n",
    "* **Mantenibilidad**: El código es más fácil de modificar y actualizar.\n",
    "* **Colaboración:** Las convenciones facilitan el trabajo en equipo.\n",
    "* **Herramientas:** Muchas herramientas de análisis de código y linters se basan en las convenciones de Python para detectar posibles errores de estilo.\n",
    "\n",
    "\n",
    "Ejemplo de código con las convenciones de Python:"
   ]
  },
  {
   "cell_type": "code",
   "execution_count": null,
   "metadata": {
    "colab": {
     "base_uri": "https://localhost:8080/"
    },
    "executionInfo": {
     "elapsed": 224,
     "status": "ok",
     "timestamp": 1711934569730,
     "user": {
      "displayName": "Andrés Mena Abarca",
      "userId": "07418092259593836578"
     },
     "user_tz": 360
    },
    "id": "gQ2jcJFZQExd",
    "outputId": "ebac5822-4d56-4980-98bf-c46c280e304e"
   },
   "outputs": [],
   "source": [
    "def mi_funcion(param1, param2):\n",
    "  \"\"\"\n",
    "  Esta función realiza una tarea específica.\n",
    "\n",
    "  Parámetros:\n",
    "    param1: El primer parámetro de la función.\n",
    "    param2: El segundo parámetro de la función.\n",
    "\n",
    "  Retorno:\n",
    "    El resultado de la función.\n",
    "  \"\"\"\n",
    "\n",
    "  # Se realiza una operación con los parámetros\n",
    "  resultado = param1 + param2\n",
    "\n",
    "  # Se retorna el resultado\n",
    "  return resultado\n",
    "\n",
    "# Se llama a la función\n",
    "resultado = mi_funcion(10, 20)\n",
    "\n",
    "# Se imprime el resultado\n",
    "print(resultado)\n"
   ]
  },
  {
   "cell_type": "markdown",
   "metadata": {
    "id": "I2UPS1_HQS3k"
   },
   "source": [
    "# Recursos adicionales:\n",
    "\n",
    "* PEP 8 Style Guide for Python Code: [https://peps.python.org/pep-0008/](https://peps.python.org/pep-0008/)\n",
    "* Guía de estilo para el código Python – PEP 8 en Español: [https://recursospython.com/pep8es.pdf](https://recursospython.com/pep8es.pdf)\n",
    "* El Pythonista - Guía de estilos en Python: [https://elpythonista.com/pep-8](https://elpythonista.com/pep-8)"
   ]
  }
 ],
 "metadata": {
  "colab": {
   "provenance": []
  },
  "kernelspec": {
   "display_name": "Python 3",
   "name": "python3"
  },
  "language_info": {
   "codemirror_mode": {
    "name": "ipython",
    "version": 3
   },
   "file_extension": ".py",
   "mimetype": "text/x-python",
   "name": "python",
   "nbconvert_exporter": "python",
   "pygments_lexer": "ipython3",
   "version": "3.13.2"
  }
 },
 "nbformat": 4,
 "nbformat_minor": 0
}
